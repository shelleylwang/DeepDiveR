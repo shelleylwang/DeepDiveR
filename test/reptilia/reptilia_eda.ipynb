{
 "cells": [
  {
   "cell_type": "markdown",
   "metadata": {},
   "source": [
    "# Prepping Reptilia Data for Inputting into R Script "
   ]
  },
  {
   "cell_type": "code",
   "execution_count": 103,
   "metadata": {},
   "outputs": [],
   "source": [
    "import pandas as pd"
   ]
  },
  {
   "cell_type": "code",
   "execution_count": 104,
   "metadata": {},
   "outputs": [],
   "source": [
    "rep = pd.read_excel('../../BDNN_Arielli/data/reptilia_occ_genus.xlsm', engine='openpyxl')"
   ]
  },
  {
   "cell_type": "code",
   "execution_count": 105,
   "metadata": {},
   "outputs": [
    {
     "data": {
      "text/html": [
       "<div>\n",
       "<style scoped>\n",
       "    .dataframe tbody tr th:only-of-type {\n",
       "        vertical-align: middle;\n",
       "    }\n",
       "\n",
       "    .dataframe tbody tr th {\n",
       "        vertical-align: top;\n",
       "    }\n",
       "\n",
       "    .dataframe thead th {\n",
       "        text-align: right;\n",
       "    }\n",
       "</style>\n",
       "<table border=\"1\" class=\"dataframe\">\n",
       "  <thead>\n",
       "    <tr style=\"text-align: right;\">\n",
       "      <th></th>\n",
       "      <th>id</th>\n",
       "      <th>Rotated Lat</th>\n",
       "      <th>Rotated Lon</th>\n",
       "      <th>occurrence_no</th>\n",
       "      <th>pres_mode</th>\n",
       "      <th>preservation_quality</th>\n",
       "      <th>common_body_parts</th>\n",
       "      <th>abund_value</th>\n",
       "      <th>abund_unit</th>\n",
       "      <th>class</th>\n",
       "      <th>...</th>\n",
       "      <th>artifacts</th>\n",
       "      <th>component_comments</th>\n",
       "      <th>spatial_resolution</th>\n",
       "      <th>temporal_resolution</th>\n",
       "      <th>lagerstatten</th>\n",
       "      <th>concentration</th>\n",
       "      <th>orientation</th>\n",
       "      <th>abund_in_sediment</th>\n",
       "      <th>collection_comments</th>\n",
       "      <th>taxonomy_comments</th>\n",
       "    </tr>\n",
       "  </thead>\n",
       "  <tbody>\n",
       "    <tr>\n",
       "      <th>0</th>\n",
       "      <td>4411</td>\n",
       "      <td>6.7390</td>\n",
       "      <td>-20.6269</td>\n",
       "      <td>146084</td>\n",
       "      <td>body</td>\n",
       "      <td>good</td>\n",
       "      <td>NaN</td>\n",
       "      <td>1.0</td>\n",
       "      <td>individuals</td>\n",
       "      <td>Reptilia</td>\n",
       "      <td>...</td>\n",
       "      <td>NaN</td>\n",
       "      <td>NaN</td>\n",
       "      <td>NaN</td>\n",
       "      <td>NaN</td>\n",
       "      <td>NaN</td>\n",
       "      <td>NaN</td>\n",
       "      <td>NaN</td>\n",
       "      <td>common</td>\n",
       "      <td>NaN</td>\n",
       "      <td>NaN</td>\n",
       "    </tr>\n",
       "    <tr>\n",
       "      <th>1</th>\n",
       "      <td>4410</td>\n",
       "      <td>6.7390</td>\n",
       "      <td>-20.6269</td>\n",
       "      <td>146085</td>\n",
       "      <td>body</td>\n",
       "      <td>good</td>\n",
       "      <td>NaN</td>\n",
       "      <td>1.0</td>\n",
       "      <td>specimens</td>\n",
       "      <td>Reptilia</td>\n",
       "      <td>...</td>\n",
       "      <td>NaN</td>\n",
       "      <td>NaN</td>\n",
       "      <td>NaN</td>\n",
       "      <td>NaN</td>\n",
       "      <td>NaN</td>\n",
       "      <td>NaN</td>\n",
       "      <td>NaN</td>\n",
       "      <td>common</td>\n",
       "      <td>NaN</td>\n",
       "      <td>NaN</td>\n",
       "    </tr>\n",
       "    <tr>\n",
       "      <th>2</th>\n",
       "      <td>4409</td>\n",
       "      <td>35.9688</td>\n",
       "      <td>2.1884</td>\n",
       "      <td>146086</td>\n",
       "      <td>body</td>\n",
       "      <td>NaN</td>\n",
       "      <td>NaN</td>\n",
       "      <td>NaN</td>\n",
       "      <td>NaN</td>\n",
       "      <td>Reptilia</td>\n",
       "      <td>...</td>\n",
       "      <td>NaN</td>\n",
       "      <td>NaN</td>\n",
       "      <td>NaN</td>\n",
       "      <td>NaN</td>\n",
       "      <td>NaN</td>\n",
       "      <td>NaN</td>\n",
       "      <td>NaN</td>\n",
       "      <td>NaN</td>\n",
       "      <td>NaN</td>\n",
       "      <td>NaN</td>\n",
       "    </tr>\n",
       "    <tr>\n",
       "      <th>3</th>\n",
       "      <td>4408</td>\n",
       "      <td>35.9688</td>\n",
       "      <td>2.1884</td>\n",
       "      <td>146087</td>\n",
       "      <td>body</td>\n",
       "      <td>NaN</td>\n",
       "      <td>NaN</td>\n",
       "      <td>3.0</td>\n",
       "      <td>specimens</td>\n",
       "      <td>Reptilia</td>\n",
       "      <td>...</td>\n",
       "      <td>NaN</td>\n",
       "      <td>NaN</td>\n",
       "      <td>NaN</td>\n",
       "      <td>NaN</td>\n",
       "      <td>NaN</td>\n",
       "      <td>NaN</td>\n",
       "      <td>NaN</td>\n",
       "      <td>NaN</td>\n",
       "      <td>NaN</td>\n",
       "      <td>NaN</td>\n",
       "    </tr>\n",
       "    <tr>\n",
       "      <th>4</th>\n",
       "      <td>4407</td>\n",
       "      <td>-62.6208</td>\n",
       "      <td>-11.8191</td>\n",
       "      <td>147521</td>\n",
       "      <td>body</td>\n",
       "      <td>NaN</td>\n",
       "      <td>NaN</td>\n",
       "      <td>10.0</td>\n",
       "      <td>specimens</td>\n",
       "      <td>Reptilia</td>\n",
       "      <td>...</td>\n",
       "      <td>NaN</td>\n",
       "      <td>NaN</td>\n",
       "      <td>NaN</td>\n",
       "      <td>snapshot</td>\n",
       "      <td>NaN</td>\n",
       "      <td>NaN</td>\n",
       "      <td>NaN</td>\n",
       "      <td>NaN</td>\n",
       "      <td>NaN</td>\n",
       "      <td>Carroll &amp; Lindsay (1985) list two non-type spe...</td>\n",
       "    </tr>\n",
       "  </tbody>\n",
       "</table>\n",
       "<p>5 rows × 94 columns</p>\n",
       "</div>"
      ],
      "text/plain": [
       "     id  Rotated Lat  Rotated Lon occurrence_no pres_mode  \\\n",
       "0  4411       6.7390     -20.6269        146084      body   \n",
       "1  4410       6.7390     -20.6269        146085      body   \n",
       "2  4409      35.9688       2.1884        146086      body   \n",
       "3  4408      35.9688       2.1884        146087      body   \n",
       "4  4407     -62.6208     -11.8191        147521      body   \n",
       "\n",
       "  preservation_quality common_body_parts  abund_value   abund_unit     class  \\\n",
       "0                 good               NaN          1.0  individuals  Reptilia   \n",
       "1                 good               NaN          1.0    specimens  Reptilia   \n",
       "2                  NaN               NaN          NaN          NaN  Reptilia   \n",
       "3                  NaN               NaN          3.0    specimens  Reptilia   \n",
       "4                  NaN               NaN         10.0    specimens  Reptilia   \n",
       "\n",
       "   ... artifacts component_comments spatial_resolution temporal_resolution  \\\n",
       "0  ...       NaN                NaN                NaN                 NaN   \n",
       "1  ...       NaN                NaN                NaN                 NaN   \n",
       "2  ...       NaN                NaN                NaN                 NaN   \n",
       "3  ...       NaN                NaN                NaN                 NaN   \n",
       "4  ...       NaN                NaN                NaN            snapshot   \n",
       "\n",
       "  lagerstatten concentration orientation abund_in_sediment  \\\n",
       "0          NaN           NaN         NaN            common   \n",
       "1          NaN           NaN         NaN            common   \n",
       "2          NaN           NaN         NaN               NaN   \n",
       "3          NaN           NaN         NaN               NaN   \n",
       "4          NaN           NaN         NaN               NaN   \n",
       "\n",
       "  collection_comments                                  taxonomy_comments  \n",
       "0                 NaN                                                NaN  \n",
       "1                 NaN                                                NaN  \n",
       "2                 NaN                                                NaN  \n",
       "3                 NaN                                                NaN  \n",
       "4                 NaN  Carroll & Lindsay (1985) list two non-type spe...  \n",
       "\n",
       "[5 rows x 94 columns]"
      ]
     },
     "execution_count": 105,
     "metadata": {},
     "output_type": "execute_result"
    }
   ],
   "source": [
    "# Cursory glance\n",
    "rep.head()"
   ]
  },
  {
   "cell_type": "code",
   "execution_count": 106,
   "metadata": {},
   "outputs": [
    {
     "data": {
      "text/plain": [
       "Index(['id', 'Rotated Lat', 'Rotated Lon', 'occurrence_no', 'pres_mode',\n",
       "       'preservation_quality', 'common_body_parts', 'abund_value',\n",
       "       'abund_unit', 'class', 'family', 'genus', 'taxon_environment',\n",
       "       'life_habit', 'diet', 'early_interval', 'late_interval', 'time_bins',\n",
       "       'museum', 'collection_no', 'age_max', 'age_min', 'age_median',\n",
       "       'age_uncer_range', 'lng', 'lat', 'environment', 'occurrence_comments',\n",
       "       'cc', 'state', 'county', 'formation', 'stratgroup', 'member', 'zone',\n",
       "       'accepted_rank', 'ref_author', 'ref_pubyr', 'reference_no.x',\n",
       "       'collection_name', 'collection_subset', 'collection_aka',\n",
       "       'latlng_basis', 'latlng_precision', 'geogscale', 'geogcomments',\n",
       "       'paleomodel', 'geoplate', 'paleoage', 'paleolng', 'paleolat',\n",
       "       'paleomodel2', 'geoplate2', 'paleoage2', 'paleolng2', 'paleolat2',\n",
       "       'paleomodel3', 'geoplate3', 'paleoage3', 'paleolng3', 'paleolat3',\n",
       "       'protected', 'stratscale', 'localsection', 'localbed', 'stratcomments',\n",
       "       'lithdescript', 'lithology1', 'lithadj1', 'lithification1',\n",
       "       'minor_lithology1', 'fossilsfrom1', 'lithology2', 'lithadj2',\n",
       "       'lithification2', 'minor_lithology2', 'fossilsfrom2',\n",
       "       'tectonic_setting', 'geology_comments', 'assembl_comps',\n",
       "       'articulated_parts', 'associated_parts', 'rare_body_parts',\n",
       "       'feed_pred_traces', 'artifacts', 'component_comments',\n",
       "       'spatial_resolution', 'temporal_resolution', 'lagerstatten',\n",
       "       'concentration', 'orientation', 'abund_in_sediment',\n",
       "       'collection_comments', 'taxonomy_comments'],\n",
       "      dtype='object')"
      ]
     },
     "execution_count": 106,
     "metadata": {},
     "output_type": "execute_result"
    }
   ],
   "source": [
    "rep.columns"
   ]
  },
  {
   "cell_type": "markdown",
   "metadata": {},
   "source": [
    "### Choosing an \"Area\" Column\n",
    "\n",
    "'collection_no\" will definitely be \"Locality\" column in the final table\n",
    "\n",
    "'genus' will definitely be \"Taxon\" column in the final table\n",
    "\n",
    "**Now I need to choose a 'Area' column**\n"
   ]
  },
  {
   "cell_type": "code",
   "execution_count": 107,
   "metadata": {},
   "outputs": [
    {
     "data": {
      "text/plain": [
       "(3545, 8)"
      ]
     },
     "execution_count": 107,
     "metadata": {},
     "output_type": "execute_result"
    }
   ],
   "source": [
    "# Looking for Nulls in the potential \"Area\" columns\n",
    "nulls_zone = rep[rep['zone'].isnull()]\n",
    "nulls_cc = rep[rep['cc'].isnull()]\n",
    "len(nulls_zone), len(nulls_cc)\n"
   ]
  },
  {
   "cell_type": "code",
   "execution_count": 108,
   "metadata": {},
   "outputs": [
    {
     "data": {
      "text/plain": [
       "(107, 52)"
      ]
     },
     "execution_count": 108,
     "metadata": {},
     "output_type": "execute_result"
    }
   ],
   "source": [
    "# Seeing how many unique values are in the potential \"Area\" columns\n",
    "len(rep['zone'].unique()), len(rep['cc'].unique())\n"
   ]
  },
  {
   "cell_type": "markdown",
   "metadata": {},
   "source": [
    "'zone' column has more nulls and more unique values, so I'm going to go for the 'cc' column as the 'Area' column in the final dataset"
   ]
  },
  {
   "cell_type": "code",
   "execution_count": 109,
   "metadata": {},
   "outputs": [
    {
     "data": {
      "text/html": [
       "<div>\n",
       "<style scoped>\n",
       "    .dataframe tbody tr th:only-of-type {\n",
       "        vertical-align: middle;\n",
       "    }\n",
       "\n",
       "    .dataframe tbody tr th {\n",
       "        vertical-align: top;\n",
       "    }\n",
       "\n",
       "    .dataframe thead th {\n",
       "        text-align: right;\n",
       "    }\n",
       "</style>\n",
       "<table border=\"1\" class=\"dataframe\">\n",
       "  <thead>\n",
       "    <tr style=\"text-align: right;\">\n",
       "      <th></th>\n",
       "      <th>Taxon</th>\n",
       "      <th>Locality</th>\n",
       "      <th>MaxAge</th>\n",
       "      <th>MinAge</th>\n",
       "      <th>Area</th>\n",
       "    </tr>\n",
       "  </thead>\n",
       "  <tbody>\n",
       "    <tr>\n",
       "      <th>0</th>\n",
       "      <td>Icarosaurus</td>\n",
       "      <td>12856</td>\n",
       "      <td>227.000</td>\n",
       "      <td>208.5</td>\n",
       "      <td>US</td>\n",
       "    </tr>\n",
       "    <tr>\n",
       "      <th>1</th>\n",
       "      <td>Rutiodon</td>\n",
       "      <td>12856</td>\n",
       "      <td>227.000</td>\n",
       "      <td>208.5</td>\n",
       "      <td>US</td>\n",
       "    </tr>\n",
       "    <tr>\n",
       "      <th>2</th>\n",
       "      <td>Kuehneosuchus</td>\n",
       "      <td>12857</td>\n",
       "      <td>208.500</td>\n",
       "      <td>201.4</td>\n",
       "      <td>UK</td>\n",
       "    </tr>\n",
       "    <tr>\n",
       "      <th>3</th>\n",
       "      <td>Kuehneosaurus</td>\n",
       "      <td>12858</td>\n",
       "      <td>208.500</td>\n",
       "      <td>201.4</td>\n",
       "      <td>UK</td>\n",
       "    </tr>\n",
       "    <tr>\n",
       "      <th>4</th>\n",
       "      <td>Procolophon</td>\n",
       "      <td>13043</td>\n",
       "      <td>251.902</td>\n",
       "      <td>247.2</td>\n",
       "      <td>ZA</td>\n",
       "    </tr>\n",
       "  </tbody>\n",
       "</table>\n",
       "</div>"
      ],
      "text/plain": [
       "           Taxon Locality   MaxAge  MinAge Area\n",
       "0    Icarosaurus    12856  227.000   208.5   US\n",
       "1       Rutiodon    12856  227.000   208.5   US\n",
       "2  Kuehneosuchus    12857  208.500   201.4   UK\n",
       "3  Kuehneosaurus    12858  208.500   201.4   UK\n",
       "4    Procolophon    13043  251.902   247.2   ZA"
      ]
     },
     "execution_count": 109,
     "metadata": {},
     "output_type": "execute_result"
    }
   ],
   "source": [
    "# Filtering to just the columns deepdive needs\n",
    "rep_filtered = rep[['genus', 'collection_no', 'age_max', 'age_min', 'cc']]\n",
    "rep_filtered = rep_filtered.rename(columns={'genus': 'Taxon', 'collection_no': 'Locality', 'cc': 'Area', 'age_max':'MaxAge', 'age_min':'MinAge'})\n",
    "rep_filtered.head()"
   ]
  },
  {
   "cell_type": "markdown",
   "metadata": {},
   "source": [
    "### Imputing any Nulls\n"
   ]
  },
  {
   "cell_type": "code",
   "execution_count": 110,
   "metadata": {},
   "outputs": [
    {
     "data": {
      "text/plain": [
       "Taxon       0\n",
       "Locality    0\n",
       "MaxAge      0\n",
       "MinAge      0\n",
       "Area        8\n",
       "dtype: int64"
      ]
     },
     "execution_count": 110,
     "metadata": {},
     "output_type": "execute_result"
    }
   ],
   "source": [
    "# Only 'Area' has nulls\n",
    "rep_filtered.isna().sum()"
   ]
  },
  {
   "cell_type": "code",
   "execution_count": 111,
   "metadata": {},
   "outputs": [
    {
     "data": {
      "text/html": [
       "<div>\n",
       "<style scoped>\n",
       "    .dataframe tbody tr th:only-of-type {\n",
       "        vertical-align: middle;\n",
       "    }\n",
       "\n",
       "    .dataframe tbody tr th {\n",
       "        vertical-align: top;\n",
       "    }\n",
       "\n",
       "    .dataframe thead th {\n",
       "        text-align: right;\n",
       "    }\n",
       "</style>\n",
       "<table border=\"1\" class=\"dataframe\">\n",
       "  <thead>\n",
       "    <tr style=\"text-align: right;\">\n",
       "      <th></th>\n",
       "      <th>Taxon</th>\n",
       "      <th>Locality</th>\n",
       "      <th>MaxAge</th>\n",
       "      <th>MinAge</th>\n",
       "      <th>Area</th>\n",
       "    </tr>\n",
       "  </thead>\n",
       "  <tbody>\n",
       "    <tr>\n",
       "      <th>148</th>\n",
       "      <td>Mesosaurus</td>\n",
       "      <td>28468</td>\n",
       "      <td>290.1</td>\n",
       "      <td>283.5</td>\n",
       "      <td>NaN</td>\n",
       "    </tr>\n",
       "    <tr>\n",
       "      <th>149</th>\n",
       "      <td>Mesosaurus</td>\n",
       "      <td>28469</td>\n",
       "      <td>290.1</td>\n",
       "      <td>283.5</td>\n",
       "      <td>NaN</td>\n",
       "    </tr>\n",
       "    <tr>\n",
       "      <th>150</th>\n",
       "      <td>Mesosaurus</td>\n",
       "      <td>28470</td>\n",
       "      <td>290.1</td>\n",
       "      <td>283.5</td>\n",
       "      <td>NaN</td>\n",
       "    </tr>\n",
       "    <tr>\n",
       "      <th>151</th>\n",
       "      <td>Mesosaurus</td>\n",
       "      <td>28471</td>\n",
       "      <td>290.1</td>\n",
       "      <td>283.5</td>\n",
       "      <td>NaN</td>\n",
       "    </tr>\n",
       "    <tr>\n",
       "      <th>689</th>\n",
       "      <td>Plateosaurus</td>\n",
       "      <td>64316</td>\n",
       "      <td>208.5</td>\n",
       "      <td>201.4</td>\n",
       "      <td>NaN</td>\n",
       "    </tr>\n",
       "    <tr>\n",
       "      <th>1646</th>\n",
       "      <td>Mesosaurus</td>\n",
       "      <td>90755</td>\n",
       "      <td>290.1</td>\n",
       "      <td>283.5</td>\n",
       "      <td>NaN</td>\n",
       "    </tr>\n",
       "    <tr>\n",
       "      <th>1647</th>\n",
       "      <td>Mesosaurus</td>\n",
       "      <td>90755</td>\n",
       "      <td>290.1</td>\n",
       "      <td>283.5</td>\n",
       "      <td>NaN</td>\n",
       "    </tr>\n",
       "    <tr>\n",
       "      <th>1648</th>\n",
       "      <td>Mesosaurus</td>\n",
       "      <td>90780</td>\n",
       "      <td>290.1</td>\n",
       "      <td>283.5</td>\n",
       "      <td>NaN</td>\n",
       "    </tr>\n",
       "  </tbody>\n",
       "</table>\n",
       "</div>"
      ],
      "text/plain": [
       "             Taxon Locality  MaxAge  MinAge Area\n",
       "148     Mesosaurus    28468   290.1   283.5  NaN\n",
       "149     Mesosaurus    28469   290.1   283.5  NaN\n",
       "150     Mesosaurus    28470   290.1   283.5  NaN\n",
       "151     Mesosaurus    28471   290.1   283.5  NaN\n",
       "689   Plateosaurus    64316   208.5   201.4  NaN\n",
       "1646    Mesosaurus    90755   290.1   283.5  NaN\n",
       "1647    Mesosaurus    90755   290.1   283.5  NaN\n",
       "1648    Mesosaurus    90780   290.1   283.5  NaN"
      ]
     },
     "execution_count": 111,
     "metadata": {},
     "output_type": "execute_result"
    }
   ],
   "source": [
    "# Looking at those nulls\n",
    "rep_filtered[rep_filtered['Area'].isna()]"
   ]
  },
  {
   "cell_type": "code",
   "execution_count": 112,
   "metadata": {},
   "outputs": [],
   "source": [
    "# Seeing if the locality with nulls in 'Area' has any other entries. \n",
    "# If it does, we can infer the 'Area' with info from the other entries\n",
    "null1 = rep[rep['collection_no'] == 90780]\n",
    "null2 = rep[rep['collection_no'] == 90755]\n",
    "null3 = rep[rep['collection_no'] == 64316]\n",
    "null4 = rep[rep['collection_no'] == 28471]\n",
    "null5 = rep[rep['collection_no'] == 28470]\n",
    "null6 = rep[rep['collection_no'] == 28469]\n",
    "null7 = rep[rep['collection_no'] == 28468]"
   ]
  },
  {
   "cell_type": "code",
   "execution_count": 113,
   "metadata": {},
   "outputs": [
    {
     "data": {
      "text/plain": [
       "(1, 2, 1, 1, 1, 1, 1)"
      ]
     },
     "execution_count": 113,
     "metadata": {},
     "output_type": "execute_result"
    }
   ],
   "source": [
    "# Seeing length of null entries for those localities\n",
    "len(null1), len(null2), len(null3), len(null4), len(null5), len(null6), len(null7)\n",
    "# Only null2 has >1"
   ]
  },
  {
   "cell_type": "code",
   "execution_count": 114,
   "metadata": {},
   "outputs": [
    {
     "data": {
      "text/html": [
       "<div>\n",
       "<style scoped>\n",
       "    .dataframe tbody tr th:only-of-type {\n",
       "        vertical-align: middle;\n",
       "    }\n",
       "\n",
       "    .dataframe tbody tr th {\n",
       "        vertical-align: top;\n",
       "    }\n",
       "\n",
       "    .dataframe thead th {\n",
       "        text-align: right;\n",
       "    }\n",
       "</style>\n",
       "<table border=\"1\" class=\"dataframe\">\n",
       "  <thead>\n",
       "    <tr style=\"text-align: right;\">\n",
       "      <th></th>\n",
       "      <th>cc</th>\n",
       "      <th>state</th>\n",
       "      <th>county</th>\n",
       "      <th>formation</th>\n",
       "      <th>stratgroup</th>\n",
       "      <th>member</th>\n",
       "      <th>zone</th>\n",
       "      <th>collection_no</th>\n",
       "    </tr>\n",
       "  </thead>\n",
       "  <tbody>\n",
       "    <tr>\n",
       "      <th>1646</th>\n",
       "      <td>NaN</td>\n",
       "      <td>Karas</td>\n",
       "      <td>NaN</td>\n",
       "      <td>Whitehill</td>\n",
       "      <td>Ecca</td>\n",
       "      <td>NaN</td>\n",
       "      <td>NaN</td>\n",
       "      <td>90755</td>\n",
       "    </tr>\n",
       "    <tr>\n",
       "      <th>1647</th>\n",
       "      <td>NaN</td>\n",
       "      <td>Karas</td>\n",
       "      <td>NaN</td>\n",
       "      <td>Whitehill</td>\n",
       "      <td>Ecca</td>\n",
       "      <td>NaN</td>\n",
       "      <td>NaN</td>\n",
       "      <td>90755</td>\n",
       "    </tr>\n",
       "  </tbody>\n",
       "</table>\n",
       "</div>"
      ],
      "text/plain": [
       "       cc  state county  formation stratgroup member zone collection_no\n",
       "1646  NaN  Karas    NaN  Whitehill       Ecca    NaN  NaN         90755\n",
       "1647  NaN  Karas    NaN  Whitehill       Ecca    NaN  NaN         90755"
      ]
     },
     "execution_count": 114,
     "metadata": {},
     "output_type": "execute_result"
    }
   ],
   "source": [
    "null2[['cc', 'state', 'county', 'formation', 'stratgroup', 'member', 'zone', 'collection_no']]\n"
   ]
  },
  {
   "cell_type": "code",
   "execution_count": 115,
   "metadata": {},
   "outputs": [
    {
     "data": {
      "text/html": [
       "<div>\n",
       "<style scoped>\n",
       "    .dataframe tbody tr th:only-of-type {\n",
       "        vertical-align: middle;\n",
       "    }\n",
       "\n",
       "    .dataframe tbody tr th {\n",
       "        vertical-align: top;\n",
       "    }\n",
       "\n",
       "    .dataframe thead th {\n",
       "        text-align: right;\n",
       "    }\n",
       "</style>\n",
       "<table border=\"1\" class=\"dataframe\">\n",
       "  <thead>\n",
       "    <tr style=\"text-align: right;\">\n",
       "      <th></th>\n",
       "      <th>id</th>\n",
       "      <th>Rotated Lat</th>\n",
       "      <th>Rotated Lon</th>\n",
       "      <th>occurrence_no</th>\n",
       "      <th>pres_mode</th>\n",
       "      <th>preservation_quality</th>\n",
       "      <th>common_body_parts</th>\n",
       "      <th>abund_value</th>\n",
       "      <th>abund_unit</th>\n",
       "      <th>class</th>\n",
       "      <th>...</th>\n",
       "      <th>artifacts</th>\n",
       "      <th>component_comments</th>\n",
       "      <th>spatial_resolution</th>\n",
       "      <th>temporal_resolution</th>\n",
       "      <th>lagerstatten</th>\n",
       "      <th>concentration</th>\n",
       "      <th>orientation</th>\n",
       "      <th>abund_in_sediment</th>\n",
       "      <th>collection_comments</th>\n",
       "      <th>taxonomy_comments</th>\n",
       "    </tr>\n",
       "  </thead>\n",
       "  <tbody>\n",
       "  </tbody>\n",
       "</table>\n",
       "<p>0 rows × 94 columns</p>\n",
       "</div>"
      ],
      "text/plain": [
       "Empty DataFrame\n",
       "Columns: [id, Rotated Lat, Rotated Lon, occurrence_no, pres_mode, preservation_quality, common_body_parts, abund_value, abund_unit, class, family, genus, taxon_environment, life_habit, diet, early_interval, late_interval, time_bins, museum, collection_no, age_max, age_min, age_median, age_uncer_range, lng, lat, environment, occurrence_comments, cc, state, county, formation, stratgroup, member, zone, accepted_rank, ref_author, ref_pubyr, reference_no.x, collection_name, collection_subset, collection_aka, latlng_basis, latlng_precision, geogscale, geogcomments, paleomodel, geoplate, paleoage, paleolng, paleolat, paleomodel2, geoplate2, paleoage2, paleolng2, paleolat2, paleomodel3, geoplate3, paleoage3, paleolng3, paleolat3, protected, stratscale, localsection, localbed, stratcomments, lithdescript, lithology1, lithadj1, lithification1, minor_lithology1, fossilsfrom1, lithology2, lithadj2, lithification2, minor_lithology2, fossilsfrom2, tectonic_setting, geology_comments, assembl_comps, articulated_parts, associated_parts, rare_body_parts, feed_pred_traces, artifacts, component_comments, spatial_resolution, temporal_resolution, lagerstatten, concentration, orientation, abund_in_sediment, collection_comments, taxonomy_comments]\n",
       "Index: []\n",
       "\n",
       "[0 rows x 94 columns]"
      ]
     },
     "execution_count": 115,
     "metadata": {},
     "output_type": "execute_result"
    }
   ],
   "source": [
    "rep[rep['cc'] == 'Karas']"
   ]
  },
  {
   "cell_type": "code",
   "execution_count": 116,
   "metadata": {},
   "outputs": [
    {
     "name": "stdout",
     "output_type": "stream",
     "text": [
      "<class 'pandas.core.frame.DataFrame'>\n",
      "RangeIndex: 4411 entries, 0 to 4410\n",
      "Data columns (total 5 columns):\n",
      " #   Column    Non-Null Count  Dtype  \n",
      "---  ------    --------------  -----  \n",
      " 0   Taxon     4411 non-null   object \n",
      " 1   Locality  4411 non-null   object \n",
      " 2   MaxAge    4411 non-null   float64\n",
      " 3   MinAge    4411 non-null   float64\n",
      " 4   Area      4403 non-null   object \n",
      "dtypes: float64(2), object(3)\n",
      "memory usage: 172.4+ KB\n"
     ]
    }
   ],
   "source": [
    "# There are no reasonable values for these nulls to be imputed with, so I'll just drop them\n",
    "# Checking original length of filtered df\n",
    "rep_filtered.info()"
   ]
  },
  {
   "cell_type": "code",
   "execution_count": 117,
   "metadata": {},
   "outputs": [
    {
     "name": "stdout",
     "output_type": "stream",
     "text": [
      "<class 'pandas.core.frame.DataFrame'>\n",
      "Index: 4403 entries, 0 to 4410\n",
      "Data columns (total 5 columns):\n",
      " #   Column    Non-Null Count  Dtype  \n",
      "---  ------    --------------  -----  \n",
      " 0   Taxon     4403 non-null   object \n",
      " 1   Locality  4403 non-null   object \n",
      " 2   MaxAge    4403 non-null   float64\n",
      " 3   MinAge    4403 non-null   float64\n",
      " 4   Area      4403 non-null   object \n",
      "dtypes: float64(2), object(3)\n",
      "memory usage: 206.4+ KB\n"
     ]
    }
   ],
   "source": [
    "# Dropping nulls, new df's length is correct\n",
    "rep_filtered_dropped = rep_filtered.dropna()\n",
    "rep_filtered_dropped.info()"
   ]
  },
  {
   "cell_type": "code",
   "execution_count": 118,
   "metadata": {},
   "outputs": [
    {
     "data": {
      "text/plain": [
       "(700, 51, 1726)"
      ]
     },
     "execution_count": 118,
     "metadata": {},
     "output_type": "execute_result"
    }
   ],
   "source": [
    "# Checking unique values for each column\n",
    "len(rep_filtered_dropped['Taxon'].unique()), len(rep_filtered_dropped['Area'].unique()), len(rep_filtered_dropped['Locality'].unique())"
   ]
  },
  {
   "cell_type": "code",
   "execution_count": 119,
   "metadata": {},
   "outputs": [
    {
     "data": {
      "text/plain": [
       "<Axes: xlabel='Area'>"
      ]
     },
     "execution_count": 119,
     "metadata": {},
     "output_type": "execute_result"
    },
    {
     "data": {
      "image/png": "[encoded data removed]",
      "text/plain": [
       "<Figure size 640x480 with 1 Axes>"
      ]
     },
     "metadata": {},
     "output_type": "display_data"
    }
   ],
   "source": [
    "# Creating visual representation of value counts\n",
    "# rep_filtered_dropped['Taxon'].value_counts().plot(kind='bar'), can't be done bc there are so many unique values\n",
    "rep_filtered_dropped['Area'].value_counts().plot(kind='bar')\n",
    "# rep_filtered_dropped['Locality'].value_counts().plot(kind='bar'), can't be done bc there are so many unique values"
   ]
  },
  {
   "cell_type": "markdown",
   "metadata": {},
   "source": [
    "### 'Locality' EDA"
   ]
  },
  {
   "cell_type": "code",
   "execution_count": 120,
   "metadata": {},
   "outputs": [
    {
     "data": {
      "text/plain": [
       "1092"
      ]
     },
     "execution_count": 120,
     "metadata": {},
     "output_type": "execute_result"
    }
   ],
   "source": [
    "# Finding all collection sites with only one instance (singletons)\n",
    "singletons = rep_filtered_dropped['Locality'].value_counts()\n",
    "singletons = singletons[singletons == 1]\n",
    "len(singletons)\n",
    "\n",
    "# This means 1092 of 1726 localities are singletons, or 63.3%"
   ]
  },
  {
   "cell_type": "code",
   "execution_count": 121,
   "metadata": {},
   "outputs": [
    {
     "data": {
      "text/plain": [
       "Taxon       0\n",
       "Locality    0\n",
       "MaxAge      0\n",
       "MinAge      0\n",
       "Area        0\n",
       "dtype: int64"
      ]
     },
     "execution_count": 121,
     "metadata": {},
     "output_type": "execute_result"
    }
   ],
   "source": [
    "rep_filtered_dropped.isna().sum()"
   ]
  },
  {
   "cell_type": "code",
   "execution_count": 122,
   "metadata": {},
   "outputs": [],
   "source": [
    "# Saving it off for now\n",
    "rep_filtered_dropped.to_csv('reptilia_deepdive_input.csv', index=False)"
   ]
  },
  {
   "cell_type": "code",
   "execution_count": null,
   "metadata": {},
   "outputs": [],
   "source": []
  },
  {
   "cell_type": "code",
   "execution_count": null,
   "metadata": {},
   "outputs": [],
   "source": []
  },
  {
   "cell_type": "code",
   "execution_count": null,
   "metadata": {},
   "outputs": [],
   "source": []
  }
 ],
 "metadata": {
  "kernelspec": {
   "display_name": "deepdive",
   "language": "python",
   "name": "python3"
  },
  "language_info": {
   "codemirror_mode": {
    "name": "ipython",
    "version": 3
   },
   "file_extension": ".py",
   "mimetype": "text/x-python",
   "name": "python",
   "nbconvert_exporter": "python",
   "pygments_lexer": "ipython3",
   "version": "3.12.6"
  }
 },
 "nbformat": 4,
 "nbformat_minor": 2
}
